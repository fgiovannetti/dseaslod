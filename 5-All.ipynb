{
 "cells": [
  {
   "cell_type": "code",
   "execution_count": null,
   "metadata": {
    "collapsed": true
   },
   "outputs": [],
   "source": [
    "from lxml import etree\n",
    "tree = etree.parse('python-extraction-scripts/input.xml')\n",
    "ns = {'tei': 'http://www.tei-c.org/ns/1.0'}\n",
    "root = tree.getroot()\n",
    "base_uri = root.get('{http://www.w3.org/XML/1998/namespace}base')\n",
    "edition_id = root.get('{http://www.w3.org/XML/1998/namespace}id')"
   ]
  },
  {
   "cell_type": "code",
   "execution_count": null,
   "metadata": {
    "collapsed": true
   },
   "outputs": [],
   "source": [
    "print '<?xml version=\"1.0\" encoding=\"UTF-8\"?>'"
   ]
  },
  {
   "cell_type": "code",
   "execution_count": null,
   "metadata": {},
   "outputs": [],
   "source": [
    "print '''<rdf:RDF xmlns:dcterms=\"http://purl.org/dc/terms/\"\n",
    "         xmlns:agrelon=\"https://d-nb.info/standards/elementset/agrelon#\"\n",
    "         xmlns:frbroo=\"http://iflastandards.info/ns/fr/frbr/frbroo/\"\n",
    "         xmlns:owl=\"http://www.w3.org/2002/07/owl#\"\n",
    "         xmlns:pro=\"http://purl.org/spar/pro\"\n",
    "         xmlns:proles=\"http://www.essepuntato.it/2013/10/politicalroles\"\n",
    "         xmlns:prov=\"http://www.w3.org/ns/prov#\"\n",
    "         xmlns:rdf=\"http://www.w3.org/1999/02/22-rdf-syntax-ns#\"\n",
    "         xmlns:rdfs=\"http://www.w3.org/2000/01/rdf-schema#\"\n",
    "         xmlns:schema=\"https://schema.org/\"\n",
    "         xmlns:tei=\"http://www.tei-c.org/ns/1.0\"\n",
    "         xmlns:tvc=\"http://www.essepuntato.it/2012/04/tvc/\">'''"
   ]
  },
  {
   "cell_type": "markdown",
   "metadata": {},
   "source": [
    "## Person"
   ]
  },
  {
   "cell_type": "code",
   "execution_count": null,
   "metadata": {
    "collapsed": true
   },
   "outputs": [],
   "source": [
    "def subject(person):\n",
    "    print '<rdf:Description rdf:about=\"' + base_uri + '/person/' + person_id + '\">'"
   ]
  },
  {
   "cell_type": "code",
   "execution_count": null,
   "metadata": {
    "collapsed": true
   },
   "outputs": [],
   "source": [
    "def sameas(person):\n",
    "    sameAs = person.get('sameAs').split()\n",
    "    i = 0\n",
    "    while i < len(sameAs):\n",
    "        print '<owl:sameAs rdf:resource=\"' + sameAs[i] + '\"/>'\n",
    "        i += 1"
   ]
  },
  {
   "cell_type": "code",
   "execution_count": null,
   "metadata": {
    "collapsed": true
   },
   "outputs": [],
   "source": [
    "def persname(person):\n",
    "    persName = person.find('./tei:persName', ns)\n",
    "    label = persName.text\n",
    "    label_lang = persName.get('{http://www.w3.org/XML/1998/namespace}lang')\n",
    "    if label_lang is not None:\n",
    "        print '<rdfs:label ' + 'xml:lang=\"' + label_lang + '\">' + label + '</rdfs:label>'\n",
    "    else:\n",
    "        print '<rdfs:label>' + label + '</rdfs:label>'"
   ]
  },
  {
   "cell_type": "code",
   "execution_count": null,
   "metadata": {
    "collapsed": true
   },
   "outputs": [],
   "source": [
    "def referenced_person(person_id):\n",
    "    ref = './tei:text//tei:persName[@ref=\"#' + person_id + '\"]'\n",
    "    for referenced_person in root.findall(ref, ns):\n",
    "        parent = referenced_person.getparent()\n",
    "        parent_id = parent.get('{http://www.w3.org/XML/1998/namespace}id')\n",
    "        print '<dcterms:isReferencedBy rdf:resource=\"' + base_uri + '/text/' + parent_id + '\"/>'"
   ]
  },
  {
   "cell_type": "code",
   "execution_count": null,
   "metadata": {
    "collapsed": true
   },
   "outputs": [],
   "source": [
    "def referencing_fragment(person_id):\n",
    "    ref = './tei:text//tei:persName[@ref=\"#' + person_id + '\"]'\n",
    "    for referencing_fragment in root.findall(ref, ns):\n",
    "        parent = referencing_fragment.getparent()\n",
    "        parent_id = parent.get('{http://www.w3.org/XML/1998/namespace}id')\n",
    "        print '<rdf:Description rdf:about=\"' + base_uri + '/text/' + parent_id + '\">'\n",
    "        print '<rdf:type rdf:resource=\"http://iflastandards.info/ns/fr/frbr/frbroo/F23_Expression_Fragment\"/>'\n",
    "        print '<frbroo:R15i_is_fragment_of rdf:resource=\"' + base_uri + edition_id + '\"/>'\n",
    "        print '</rdf:Description>'"
   ]
  },
  {
   "cell_type": "code",
   "execution_count": null,
   "metadata": {
    "collapsed": true
   },
   "outputs": [],
   "source": [
    "def perstype(person):\n",
    "    listPerson = person.find('./...', ns)\n",
    "    perstype = listPerson.get('type')\n",
    "    perscorr = listPerson.get('corresp')\n",
    "    if perstype is not None:\n",
    "        print '<dcterms:description>' + perstype + '</dcterms:description>'\n",
    "    if perscorr is not None and perscorr.startswith('http'):\n",
    "        print '<dcterms:subject rdf:resource=\"' + perscorr + '\"/>'"
   ]
  },
  {
   "cell_type": "markdown",
   "metadata": {},
   "source": [
    "## Event"
   ]
  },
  {
   "cell_type": "code",
   "execution_count": null,
   "metadata": {
    "collapsed": true
   },
   "outputs": [],
   "source": [
    "def partic_event(person):\n",
    "    for event in person.findall('./tei:event', ns):\n",
    "        event_id = event.get('{http://www.w3.org/XML/1998/namespace}id')\n",
    "        if event is not None:\n",
    "            print '<pro:holdsRoleInTime rdf:resource=\"' + base_uri + '/' + person_id + '-in-' + event_id + '\"/>'"
   ]
  },
  {
   "cell_type": "code",
   "execution_count": null,
   "metadata": {
    "collapsed": true
   },
   "outputs": [],
   "source": [
    "def role_in_event(person):\n",
    "    for event in person.findall('./tei:event', ns):\n",
    "        event_id = event.get('{http://www.w3.org/XML/1998/namespace}id')\n",
    "        persName = person.find('./tei:persName', ns)\n",
    "        label = persName.text\n",
    "        print '<rdf:Description rdf:about=\"' + base_uri + '/rit/' + person_id + '-at-' + event_id + '\">'\n",
    "        print '<rdf:type rdf:resource=\"http://purl.org/spar/pro/RoleInTime\"/>'\n",
    "        pers_in_event = event.find('./tei:desc/tei:persName', ns)\n",
    "        if pers_in_event is not None and pers_in_event.get('ref') == person_ref and pers_in_event.get('role') is not None:\n",
    "            print '<pro:withRole rdf:resource=\"' + base_uri + '/role/' + pers_in_event.get('role') + '\"/>'\n",
    "        else:\n",
    "            print '<pro:withRole rdf:resource=\"' + base_uri + '/role/participant' + '\"/>'\n",
    "        print '<tvc:atTime rdf:resource=\"' + base_uri + '/tvc/' + event_id + '-time' + '\"/>'\n",
    "        print '<pro:relatesToEntity rdf:resource=\"' + base_uri + '/event/' + event_id + '\"/>'\n",
    "        place = event.find('./tei:desc/tei:placeName', ns)\n",
    "        if place > 1:\n",
    "            place_of_event = place.get('type=\"place_of_event\"')\n",
    "            print '<proles:relatesToPlace rdf:resource=\"' + base_uri + '/place/' + place.get('ref').replace(\"#\", \"\") + '\"/>'\n",
    "        elif event.find('./tei:desc/tei:placeName', ns) == 1:\n",
    "            print '<proles:relatesToPlace rdf:resource=\"' + base_uri + '/place/' + place.get('ref').replace(\"#\", \"\") + '\"/>'\n",
    "        print '</rdf:Description>'       "
   ]
  },
  {
   "cell_type": "code",
   "execution_count": null,
   "metadata": {
    "collapsed": true
   },
   "outputs": [],
   "source": [
    "def role_desc(person):\n",
    "    for event in person.findall('./tei:event', ns):\n",
    "        event_id = event.get('{http://www.w3.org/XML/1998/namespace}id')\n",
    "        pers_in_event = event.find('./tei:desc/tei:persName', ns)  \n",
    "        if pers_in_event is not None and pers_in_event.get('ref') == person_ref and pers_in_event.get('role') is not None:\n",
    "            print '<rdf:Description rdf:about=\"' + base_uri + '/role/' + pers_in_event.get('role') + '\">'\n",
    "            print '<rdf:type rdf:resource=\"http://purl.org/spar/pro/Role\"/>'\n",
    "        if pers_in_event is not None and pers_in_event.get('corresp') is not None:\n",
    "            print '<owl:sameAs rdf:resource=\"' + pers_in_event.get('corresp') + '\"/>'\n",
    "            print '<rdfs:label>' + pers_in_event.get('role') + '</rdfs:label>'\n",
    "        else:\n",
    "            print '<rdf:Description rdf:about=\"' + base_uri + '/role/participant' + '\">'\n",
    "            print '<rdf:type rdf:resource=\"http://purl.org/spar/pro/Role\"/>'\n",
    "            print '<owl:sameAs rdf:resource=\"http://wordnet-rdf.princeton.edu/id/10421528-n\"/>'\n",
    "            print '<rdfs:label>participant</rdfs:label>'\n",
    "        print '</rdf:Description>'"
   ]
  },
  {
   "cell_type": "code",
   "execution_count": null,
   "metadata": {
    "collapsed": true
   },
   "outputs": [],
   "source": [
    "def event_time():\n",
    "    for event in root.findall('.//tei:event', ns):\n",
    "        event_id = event.get('{http://www.w3.org/XML/1998/namespace}id')\n",
    "        print '<rdf:Description rdf:about=\"' + base_uri + '/' + event_id + '-time' '\">'\n",
    "        print '<rdf:type rdf:resource=\"http://www.ontologydesignpatterns.org/cp/owl/timeinterval.owl#TimeInterval\"/>'\n",
    "        if event.get('when') is not None:\n",
    "            print '<owl:hasIntervalStartDate rdf:datatype=\"https://www.w3.org/TR/xmlschema11-2/#date\">' + event.get('when') + '</owl:hasIntervalStartDate>'\n",
    "            print '<owl:hasIntervalEndDate rdf:datatype=\"https://www.w3.org/TR/xmlschema11-2/#date\">' + event.get('when') + '</owl:hasIntervalEndDate>'\n",
    "        if event.get('from') is not None:\n",
    "            print '<owl:hasIntervalStartDate rdf:datatype=\"https://www.w3.org/TR/xmlschema11-2/#date\">' + event.get('from') + '</owl:hasIntervalStartDate>'\n",
    "        if event.get('to') is not None:\n",
    "            print '<owl:hasIntervalEndDate rdf:datatype=\"https://www.w3.org/TR/xmlschema11-2/#date\">' + event.get('to') + '</owl:hasIntervalEndDate>'\n",
    "        print '</rdf:Description>'"
   ]
  },
  {
   "cell_type": "code",
   "execution_count": null,
   "metadata": {
    "collapsed": true
   },
   "outputs": [],
   "source": [
    "def event_desc():\n",
    "    for event in root.findall('.//tei:event', ns):\n",
    "        event_id = event.get('{http://www.w3.org/XML/1998/namespace}id')\n",
    "        evtype = event.get('type')\n",
    "        evcorr = event.get('corresp')\n",
    "        print '<rdf:Description rdf:about=\"' + base_uri + '/event/' + event_id + '\">'\n",
    "        print '<rdf:type rdf:resource=\"http://www.cidoc-crm.org/cidoc-crm/E5_Event\"/>'\n",
    "        print '<rdf:type rdf:resource=\"https://schema.org/Event\"/>'\n",
    "        label = event.find('./tei:label', ns)\n",
    "        if label is not None:\n",
    "            print '<rdfs:label>' + label.text + '</rdfs:label>'\n",
    "        source = event.find('./tei:bibl', ns)\n",
    "        if source is not None:\n",
    "            source_id = source.get('{http://www.w3.org/XML/1998/namespace}id')\n",
    "            print '<prov:hasPrimarySource rdf:resource=\"' + base_uri + '/source/' + source_id + '\"/>'\n",
    "        if evtype is not None:\n",
    "            print '<dcterms:description>' + evtype + '</dcterms:description>'\n",
    "        if evcorr is not None and evcorr.startswith('http'):\n",
    "            print '<dcterms:subject rdf:resource=\"' + evcorr + '\"/>'\n",
    "        print '</rdf:Description>'"
   ]
  },
  {
   "cell_type": "code",
   "execution_count": null,
   "metadata": {
    "collapsed": true
   },
   "outputs": [],
   "source": [
    "def event_source():\n",
    "    for eventSource in root.findall('.//tei:event//tei:bibl', ns):\n",
    "        source_id = eventSource.get('{http://www.w3.org/XML/1998/namespace}id')\n",
    "        print '<rdf:Description rdf:about=\"' + base_uri + '/source/' + source_id + '\">'\n",
    "        print '<rdf:type rdf:resource=\"http://www.w3.org/ns/prov#PrimarySource\"/>'\n",
    "        if eventSource.find('./tei:author', ns) is not None:\n",
    "            author_ref = eventSource.find('./tei:author', ns).get('ref')\n",
    "            author_id = author_ref.split('#')\n",
    "            print '<dcterms:creator rdf:resource=\"' + base_uri + '/person/' + author_id[1] + '\"/>'\n",
    "        if eventSource.find('.tei:title', ns) is not None:\n",
    "            print '<dcterms:title>' + eventSource.find('.tei:title', ns).text + '</dcterms:title>'\n",
    "        if eventSource.get('sameAs') is not None:\n",
    "            sameAs = eventSource.get('sameAs')\n",
    "            if sameAs.startswith('http'):\n",
    "                print '<owl:sameAs rdf:resource=\"' + eventSource.get('sameAs') + '\"/>' \n",
    "        if eventSource.find('.tei:date', ns) is not None:\n",
    "            evdate = eventSource.find('.tei:date', ns)\n",
    "            print '<dcterms:date rdf:datatype=\"https://www.w3.org/TR/xmlschema11-2/#date\">' + evdate.get('when') + '</dcterms:date>'\n",
    "        print '</rdf:Description>'"
   ]
  },
  {
   "cell_type": "markdown",
   "metadata": {},
   "source": [
    "## Relation"
   ]
  },
  {
   "cell_type": "code",
   "execution_count": null,
   "metadata": {
    "collapsed": true
   },
   "outputs": [],
   "source": [
    "def relation(person):\n",
    "    for relation in root.findall('.//tei:listRelation/tei:relation', ns):\n",
    "        person_ref = '#' + person_id\n",
    "        if relation.get('active') is not None and relation.get('active') == person_ref:\n",
    "            passive = relation.get('passive').replace(\"#\", \"\").split()\n",
    "            i = 0\n",
    "            while i < len(passive):\n",
    "                print '<agrelon:' + relation.get('name') + ' rdf:resource=\"' + base_uri + '/' + passive[i] + '\"/>'\n",
    "                i += 1\n",
    "        elif relation.get('mutual') is not None:\n",
    "            relentity = relation.get('mutual').split()\n",
    "            if person_ref in relentity:\n",
    "                mutual = relation.get('mutual').replace(\"#\", \"\").replace(person_id, \"\").split()\n",
    "                i = 0\n",
    "                while i < len(mutual):\n",
    "                    print '<agrelon:' + relation.get('name') + ' rdf:resource=\"' + base_uri + '/' + mutual[i] + '\"/>'\n",
    "                    i += 1"
   ]
  },
  {
   "cell_type": "markdown",
   "metadata": {},
   "source": [
    "## Place"
   ]
  },
  {
   "cell_type": "code",
   "execution_count": null,
   "metadata": {
    "collapsed": true
   },
   "outputs": [],
   "source": [
    "def place_subject(place):\n",
    "    print '<rdf:Description rdf:about=\"' + base_uri + '/place/' + place_id + '\">'"
   ]
  },
  {
   "cell_type": "code",
   "execution_count": null,
   "metadata": {
    "collapsed": true
   },
   "outputs": [],
   "source": [
    "def place_sameas(place):\n",
    "    sameAs = place.get('sameAs').split()\n",
    "    i = 0\n",
    "    while i < len(sameAs):\n",
    "        print '<owl:sameAs rdf:resource=\"' + sameAs[i] + '\"/>'\n",
    "        i += 1"
   ]
  },
  {
   "cell_type": "code",
   "execution_count": null,
   "metadata": {
    "collapsed": true
   },
   "outputs": [],
   "source": [
    "def placename(place):\n",
    "    placeName = place.find('./tei:placeName', ns)\n",
    "    label = placeName.text\n",
    "    label_lang = placeName.get('{http://www.w3.org/XML/1998/namespace}lang')\n",
    "    if label_lang is not None:\n",
    "        print '<rdfs:label ' + 'xml:lang=\"' + label_lang + '\">' + label + '</rdfs:label>'\n",
    "    else:\n",
    "        print '<rdfs:label>' + label + '</rdfs:label>'"
   ]
  },
  {
   "cell_type": "code",
   "execution_count": null,
   "metadata": {
    "collapsed": true
   },
   "outputs": [],
   "source": [
    "def referenced_place(place_id):\n",
    "    ref = './/tei:placeName[@ref=\"#' + place_id + '\"]'\n",
    "    for referenced_place in root.findall(ref, ns):\n",
    "        parent = referenced_place.getparent()\n",
    "        parent_id = parent.get('{http://www.w3.org/XML/1998/namespace}id')\n",
    "        print '<dcterms:isReferencedBy rdf:resource=\"' + base_uri + '/text/' + parent_id + '\"/>'"
   ]
  },
  {
   "cell_type": "code",
   "execution_count": null,
   "metadata": {
    "collapsed": true
   },
   "outputs": [],
   "source": [
    "def referencing_fragment(place_id):\n",
    "    ref = './/tei:placeName[@ref=\"#' + place_id + '\"]'\n",
    "    for referencing_fragment in root.findall(ref, ns):\n",
    "        parent = referencing_fragment.getparent()\n",
    "        parent_id = parent.get('{http://www.w3.org/XML/1998/namespace}id')\n",
    "        print '<rdf:Description rdf:about=\"' + base_uri + '/text/' + parent_id + '\">'\n",
    "        print '<rdf:type rdf:resource=\"http://iflastandards.info/ns/fr/frbr/frbroo/F23_Expression_Fragment\"/>'\n",
    "        print '<frbroo:R15i_is_fragment_of rdf:resource=\"' + base_uri + edition_id + '\"/>'\n",
    "        print '</rdf:Description>'"
   ]
  },
  {
   "cell_type": "code",
   "execution_count": null,
   "metadata": {},
   "outputs": [],
   "source": [
    "for place in root.findall('.//tei:place', ns):\n",
    "    place_id = place.get('{http://www.w3.org/XML/1998/namespace}id')\n",
    "    place_ref = '#' + place_id\n",
    "    place_subject(place)\n",
    "    print '<rdf:type rdf:resource=\"https://schema.org/Place\"/>'\n",
    "    place_sameas(place)\n",
    "    placename(place)\n",
    "    referenced_place(place_id)\n",
    "    print '</rdf:Description>'"
   ]
  },
  {
   "cell_type": "code",
   "execution_count": null,
   "metadata": {},
   "outputs": [],
   "source": [
    "for place in root.findall('.//tei:place', ns):\n",
    "    place_id = place.get('{http://www.w3.org/XML/1998/namespace}id')\n",
    "    place_ref = '#' + place_id\n",
    "    referencing_fragment(place_id)"
   ]
  },
  {
   "cell_type": "code",
   "execution_count": null,
   "metadata": {
    "collapsed": true
   },
   "outputs": [],
   "source": [
    "for person in root.findall('.//tei:person', ns):\n",
    "    person_id = person.get('{http://www.w3.org/XML/1998/namespace}id')\n",
    "    person_ref = '#' + person_id\n",
    "    subject(person)\n",
    "    print '<rdf:type rdf:resource=\"https://schema.org/Person\"/>'\n",
    "    sameas(person)\n",
    "    persname(person)\n",
    "    referenced_person(person_id)\n",
    "    perstype(person)\n",
    "    partic_event(person)\n",
    "    relation(person)\n",
    "    print '</rdf:Description>'"
   ]
  },
  {
   "cell_type": "code",
   "execution_count": null,
   "metadata": {
    "collapsed": true
   },
   "outputs": [],
   "source": [
    "for person in root.findall('.//tei:person', ns):\n",
    "    person_id = person.get('{http://www.w3.org/XML/1998/namespace}id')\n",
    "    person_ref = '#' + person_id\n",
    "    referencing_fragment(person_id)"
   ]
  },
  {
   "cell_type": "code",
   "execution_count": null,
   "metadata": {
    "collapsed": true
   },
   "outputs": [],
   "source": [
    "for person in root.findall('.//tei:person', ns):\n",
    "    person_id = person.get('{http://www.w3.org/XML/1998/namespace}id')\n",
    "    person_ref = '#' + person_id\n",
    "    role_in_event(person)"
   ]
  },
  {
   "cell_type": "code",
   "execution_count": null,
   "metadata": {
    "collapsed": true
   },
   "outputs": [],
   "source": [
    "for person in root.findall('.//tei:person', ns):\n",
    "    person_id = person.get('{http://www.w3.org/XML/1998/namespace}id')\n",
    "    person_ref = '#' + person_id\n",
    "    role_desc(person)"
   ]
  },
  {
   "cell_type": "code",
   "execution_count": null,
   "metadata": {
    "collapsed": true
   },
   "outputs": [],
   "source": [
    "event_time()"
   ]
  },
  {
   "cell_type": "code",
   "execution_count": null,
   "metadata": {
    "collapsed": true
   },
   "outputs": [],
   "source": [
    "event_desc()"
   ]
  },
  {
   "cell_type": "code",
   "execution_count": null,
   "metadata": {
    "collapsed": true
   },
   "outputs": [],
   "source": [
    "event_source()"
   ]
  },
  {
   "cell_type": "code",
   "execution_count": null,
   "metadata": {
    "collapsed": true
   },
   "outputs": [],
   "source": [
    "print '</rdf:RDF>'"
   ]
  }
 ],
 "metadata": {
  "kernelspec": {
   "display_name": "Python 2",
   "language": "python",
   "name": "python2"
  },
  "language_info": {
   "codemirror_mode": {
    "name": "ipython",
    "version": 2
   },
   "file_extension": ".py",
   "mimetype": "text/x-python",
   "name": "python",
   "nbconvert_exporter": "python",
   "pygments_lexer": "ipython2",
   "version": "2.7.13"
  }
 },
 "nbformat": 4,
 "nbformat_minor": 2
}
