{
 "cells": [
  {
   "cell_type": "markdown",
   "metadata": {},
   "source": [
    "Import lxml library "
   ]
  },
  {
   "cell_type": "code",
   "execution_count": 1,
   "metadata": {
    "collapsed": true
   },
   "outputs": [],
   "source": [
    "from lxml import etree"
   ]
  },
  {
   "cell_type": "markdown",
   "metadata": {},
   "source": [
    "Declare input directory "
   ]
  },
  {
   "cell_type": "code",
   "execution_count": 2,
   "metadata": {},
   "outputs": [],
   "source": [
    "tree = etree.parse('input.xml')"
   ]
  },
  {
   "cell_type": "markdown",
   "metadata": {},
   "source": [
    "Declare TEI namespace"
   ]
  },
  {
   "cell_type": "code",
   "execution_count": 3,
   "metadata": {
    "collapsed": true
   },
   "outputs": [],
   "source": [
    "ns = {'tei': 'http://www.tei-c.org/ns/1.0'}"
   ]
  },
  {
   "cell_type": "markdown",
   "metadata": {},
   "source": [
    "Get root of XML document and store in var"
   ]
  },
  {
   "cell_type": "code",
   "execution_count": 4,
   "metadata": {
    "collapsed": true
   },
   "outputs": [],
   "source": [
    "root = tree.getroot()"
   ]
  },
  {
   "cell_type": "markdown",
   "metadata": {},
   "source": [
    "Store useful URIs in variables for later (one from xml:base, one from TEI element id)"
   ]
  },
  {
   "cell_type": "code",
   "execution_count": 5,
   "metadata": {
    "collapsed": true
   },
   "outputs": [],
   "source": [
    "base_uri = root.get('{http://www.w3.org/XML/1998/namespace}base')\n",
    "edition_id = root.get('{http://www.w3.org/XML/1998/namespace}id')"
   ]
  },
  {
   "cell_type": "code",
   "execution_count": 6,
   "metadata": {
    "collapsed": true
   },
   "outputs": [],
   "source": [
    "from rdflib import Graph, Literal, BNode, Namespace, RDF, URIRef, RDFS"
   ]
  },
  {
   "cell_type": "code",
   "execution_count": 7,
   "metadata": {
    "collapsed": true
   },
   "outputs": [],
   "source": [
    "from rdflib.namespace import XSD, DCTERMS, OWL\n",
    "agrelon = Namespace(\"https://d-nb.info/standards/elementset/agrelon#\")\n",
    "crm = Namespace(\"http://www.cidoc-crm.org/cidoc-crm/\")\n",
    "frbroo = Namespace(\"http://iflastandards.info/ns/fr/frbr/frbroo/\")\n",
    "pro = Namespace(\"http://purl.org/spar/pro/\")\n",
    "proles = Namespace(\"http://www.essepuntato.it/2013/10/politicalroles/\")\n",
    "prov = Namespace(\"http://www.w3.org/ns/prov#\")\n",
    "schema = Namespace(\"https://schema.org/\")\n",
    "tvc = Namespace(\"http://www.essepuntato.it/2012/04/tvc/\")"
   ]
  },
  {
   "cell_type": "code",
   "execution_count": 8,
   "metadata": {
    "collapsed": true
   },
   "outputs": [],
   "source": [
    "g = Graph()"
   ]
  },
  {
   "cell_type": "markdown",
   "metadata": {},
   "source": [
    "## Person"
   ]
  },
  {
   "cell_type": "code",
   "execution_count": 9,
   "metadata": {
    "collapsed": true
   },
   "outputs": [],
   "source": [
    "def subject(person):\n",
    "    #person_uri = URIRef(base_uri + '/person/' + person_id)\n",
    "    g.add( (person_uri, RDF.type, schema.Person))"
   ]
  },
  {
   "cell_type": "code",
   "execution_count": 10,
   "metadata": {
    "collapsed": true
   },
   "outputs": [],
   "source": [
    "def sameas(person):    \n",
    "    same_as = person.get('sameAs').split()\n",
    "    i = 0\n",
    "    while i < len(same_as):\n",
    "        same_as_uri = URIRef(same_as[i])\n",
    "        g.add( (person_uri, OWL.sameAs, same_as_uri))\n",
    "        i += 1"
   ]
  },
  {
   "cell_type": "code",
   "execution_count": 11,
   "metadata": {
    "collapsed": true
   },
   "outputs": [],
   "source": [
    "def persname(person):\n",
    "    persname = person.find('./tei:persName', ns)\n",
    "    label = persname.text\n",
    "    label_lang = persname.get('{http://www.w3.org/XML/1998/namespace}lang')\n",
    "    if label_lang is not None:\n",
    "        g.add( (person_uri, RDFS.label, Literal(label, lang=label_lang)))\n",
    "    else:\n",
    "        g.add( (person_uri, RDFS.label, Literal(label)))"
   ]
  },
  {
   "cell_type": "code",
   "execution_count": 12,
   "metadata": {
    "collapsed": true
   },
   "outputs": [],
   "source": [
    "def referenced_person(person_id):\n",
    "    ref = './tei:text//tei:persName[@ref=\"#' + person_id + '\"]'\n",
    "    for referenced_person in root.findall(ref, ns):\n",
    "        parent = referenced_person.getparent()\n",
    "        parent_id = parent.get('{http://www.w3.org/XML/1998/namespace}id')\n",
    "        parent_uri = URIRef(base_uri + '/text/' + parent_id)\n",
    "        g.add( (person_uri, DCTERMS.isReferencedBy, parent_uri))\n",
    "        g.add( (parent_uri, RDF.type, frbroo.F23_Expression_Fragment))\n",
    "        g.add( (parent_uri, frbroo.R15i_is_fragment_of, URIRef(base_uri + '/' + edition_id)))"
   ]
  },
  {
   "cell_type": "code",
   "execution_count": 13,
   "metadata": {
    "collapsed": true
   },
   "outputs": [],
   "source": [
    "def perstype(person):\n",
    "    listperson = person.find('./...', ns)\n",
    "    perstype = listperson.get('type')\n",
    "    perscorr = listperson.get('corresp')\n",
    "    if perstype is not None:\n",
    "        g.add( (person_uri, DCTERMS.description, Literal(perstype)))\n",
    "    if perscorr is not None and perscorr.startswith('http'):\n",
    "        g.add( (person_uri, DCTERMS.subject, URIRef(perscorr)))"
   ]
  },
  {
   "cell_type": "code",
   "execution_count": 14,
   "metadata": {},
   "outputs": [],
   "source": [
    "for person in root.findall('.//tei:person', ns):\n",
    "    person_id = person.get('{http://www.w3.org/XML/1998/namespace}id')\n",
    "    person_uri = URIRef(base_uri + '/person/' + person_id)\n",
    "    person_ref = '#' + person_id\n",
    "    subject(person)\n",
    "    sameas(person)\n",
    "    persname(person)\n",
    "    referenced_person(person_id)\n",
    "    perstype(person)"
   ]
  },
  {
   "cell_type": "markdown",
   "metadata": {},
   "source": [
    "## Event"
   ]
  },
  {
   "cell_type": "code",
   "execution_count": 15,
   "metadata": {
    "collapsed": true
   },
   "outputs": [],
   "source": [
    "def partic_event(person):     \n",
    "    for event in person.findall('./tei:event', ns):\n",
    "        event_id = event.get('{http://www.w3.org/XML/1998/namespace}id')\n",
    "        partic_event_uri = URIRef(base_uri + '/' + person_id + '-in-' + event_id)\n",
    "        if event is not None:\n",
    "            g.add( (person_uri, pro.holdsRoleInTime, partic_event_uri))"
   ]
  },
  {
   "cell_type": "code",
   "execution_count": 16,
   "metadata": {
    "collapsed": true
   },
   "outputs": [],
   "source": [
    "def role_in_event(person):\n",
    "    for event in person.findall('./tei:event', ns):\n",
    "        event_id = event.get('{http://www.w3.org/XML/1998/namespace}id')\n",
    "        persName = person.find('./tei:persName', ns)\n",
    "        label = persName.text\n",
    "        rit_uri = URIRef(base_uri + '/rit/' + person_id + '-at-' + event_id)\n",
    "        pers_in_event = event.find('./tei:desc/tei:persName', ns)\n",
    "    \n",
    "        g.add( (rit_uri, RDF.type, pro.RoleInTime))\n",
    "        \n",
    "        if pers_in_event is not None and pers_in_event.get('ref') == person_ref and pers_in_event.get('role') is not None:\n",
    "            role_uri = URIRef(base_uri + '/role/' + pers_in_event.get('role'))\n",
    "            g.add( (rit_uri, pro.withRole, role_uri))\n",
    "            g.add( (role_uri, RDF.type, pro.Role))\n",
    "        \n",
    "        if pers_in_event.get('corresp') is not None:\n",
    "            g.add( (role_uri, OWL.sameAs, pro.Role))\n",
    "            g.add( (role_uri, RDFS.label, pro.Role))\n",
    "            corresp_role_uri = URIRef(pers_in_event.get('corresp'))\n",
    "            g.add( (role_uri, OWL.sameAs, corresp_role_uri))\n",
    "            role_label = pers_in_event.get('role')\n",
    "            g.add( (role_uri, RDFS.label, Literal(role_label)))\n",
    "        else:\n",
    "            g.add( (rit_uri, pro.withRole, URIRef(base_uri + '/role/participant')))\n",
    "            role_uri = URIRef(base_uri + '/role/participant')\n",
    "            g.add( (role_uri, RDF.type, pro.Role))\n",
    "            g.add( (role_uri, OWL.sameAs, URIRef('http://wordnet-rdf.princeton.edu/id/10421528-n')))\n",
    "            g.add( (role_uri, RDFS.label, Literal('participant'))) \n",
    "\n",
    "        g.add( (rit_uri, tvc.atTime, URIRef(base_uri + '/tvc/' + event_id + '-time')))\n",
    "        g.add( (rit_uri, pro.relatesToEntity, URIRef(base_uri + '/event/' + event_id)))\n",
    "\n",
    "        place = event.find('./tei:desc/tei:placeName', ns)\n",
    "        if place > 1:\n",
    "            place_of_event = place.get('type=\"place_of_event\"')\n",
    "            g.add( (rit_uri, proles.relatesToPlace, URIRef(base_uri + '/place/' + place.get('ref').replace(\"#\", \"\"))))\n",
    "        elif event.find('./tei:desc/tei:placeName', ns) == 1:\n",
    "            g.add( (rit_uri, proles.relatesToPlace, URIRef(base_uri + '/place/' + place.get('ref').replace(\"#\", \"\"))))       "
   ]
  },
  {
   "cell_type": "code",
   "execution_count": 17,
   "metadata": {
    "collapsed": true
   },
   "outputs": [],
   "source": [
    "def event_time():\n",
    "    g.add( (event_time_uri, RDF.type, URIRef('http://www.ontologydesignpatterns.org/cp/owl/timeinterval.owl#TimeInterval')))\n",
    "    if event.get('when') is not None:\n",
    "        g.add( (event_time_uri, OWL.hasIntervalStartDate, Literal(event.get('when'), datatype=XSD.date)))\n",
    "        g.add( (event_time_uri, OWL.hasIntervalEndDate, Literal(event.get('when'), datatype=XSD.date)))\n",
    "    if event.get('from') is not None:\n",
    "        g.add( (event_time_uri, OWL.hasIntervalStartDate, Literal(event.get('from'), datatype=XSD.date)))\n",
    "    if event.get('to') is not None:\n",
    "        g.add( (event_time_uri, OWL.hasIntervalEndDate, Literal(event.get('to'), datatype=XSD.date)))"
   ]
  },
  {
   "cell_type": "code",
   "execution_count": 18,
   "metadata": {
    "collapsed": true
   },
   "outputs": [],
   "source": [
    "def event_desc():\n",
    "    g.add( (event_uri, RDF.type, crm.E5_Event))\n",
    "    g.add( (event_uri, RDF.type, schema.Event))\n",
    "    if event.find('./tei:label', ns) is not None:\n",
    "        label = event.find('./tei:label', ns).text\n",
    "        g.add( (event_uri, RDFS.label, Literal(label)))\n",
    "    if evtype is not None:\n",
    "        g.add( (event_uri, DCTERMS.description, Literal(evtype)))\n",
    "    if evcorr is not None and evcorr.startswith('http'):\n",
    "        g.add( (event_uri, DCTERMS.subject, URIRef(evcorr)))"
   ]
  },
  {
   "cell_type": "code",
   "execution_count": 19,
   "metadata": {
    "collapsed": true
   },
   "outputs": [],
   "source": [
    "def event_source():\n",
    "    source = event.find('./tei:bibl', ns)\n",
    "    if source is not None:\n",
    "        source_id = source.get('{http://www.w3.org/XML/1998/namespace}id')\n",
    "        source_uri = URIRef(base_uri + '/source/' + source_id)\n",
    "        g.add( (event_uri, prov.hasPrimarySource, source_uri))\n",
    "        for event_source in root.findall('.//tei:event//tei:bibl', ns):\n",
    "            g.add( (source_uri, RDF.type, prov.PrimarySource))\n",
    "            if event_source.find('./tei:author', ns) is not None and event_source.find('./tei:author', ns).get('ref') is not None:\n",
    "                author_ref = event_source.find('./tei:author', ns).get('ref')\n",
    "                author_id = author_ref.split('#')\n",
    "                g.add( (source_uri, DCTERMS.creator, URIRef(base_uri + '/person/' + author_id[1])))\n",
    "            if event_source.find('.tei:title', ns) is not None:\n",
    "                g.add( (source_uri, DCTERMS.title, Literal(event_source.find('.tei:title', ns).text)))\n",
    "            if event_source.get('sameAs') is not None:\n",
    "                sameAs = event_source.get('sameAs')\n",
    "                if sameAs.startswith('http'):\n",
    "                    g.add( (source_uri, OWL.sameAs, URIRef(event_source.get('sameAs')))) \n",
    "            if event_source.find('.tei:date', ns) is not None:\n",
    "                evdate = event_source.find('.tei:date', ns)\n",
    "                g.add( (source_uri, DCTERMS.date, Literal(evdate.get('when'), datatype=XSD.date)))"
   ]
  },
  {
   "cell_type": "markdown",
   "metadata": {},
   "source": [
    "Call functions"
   ]
  },
  {
   "cell_type": "code",
   "execution_count": 20,
   "metadata": {
    "collapsed": true
   },
   "outputs": [],
   "source": [
    "for person in root.findall('.//tei:person', ns):\n",
    "    person_id = person.get('{http://www.w3.org/XML/1998/namespace}id')\n",
    "    person_uri = URIRef(base_uri + '/person/' + person_id)\n",
    "    person_ref = '#' + person_id\n",
    "    partic_event(person)\n",
    "    role_in_event(person)"
   ]
  },
  {
   "cell_type": "code",
   "execution_count": 21,
   "metadata": {
    "collapsed": true
   },
   "outputs": [],
   "source": [
    "for event in root.findall('.//tei:event', ns):\n",
    "    event_id = event.get('{http://www.w3.org/XML/1998/namespace}id')\n",
    "    event_time_uri = URIRef(base_uri + '/' + event_id + '-time')\n",
    "    event_uri = URIRef(base_uri + '/event/' + event_id)\n",
    "    evcorr = event.get('corresp')\n",
    "    evtype = event.get('type')\n",
    "    event_time()\n",
    "    event_desc()\n",
    "    event_source()"
   ]
  },
  {
   "cell_type": "markdown",
   "metadata": {},
   "source": [
    "## Relation"
   ]
  },
  {
   "cell_type": "code",
   "execution_count": 22,
   "metadata": {},
   "outputs": [],
   "source": [
    "def relation(person):\n",
    "    for relation in root.findall('.//tei:listRelation/tei:relation', ns):\n",
    "        person_ref = '#' + person_id\n",
    "        if relation.get('active') is not None and relation.get('active') == person_ref:\n",
    "            passive = relation.get('passive').replace(\"#\", \"\").split()\n",
    "            i = 0\n",
    "            while i < len(passive):\n",
    "                g.add( (person_uri, agrelon[relation.get('name')], URIRef(base_uri + '/' + passive[i])))\n",
    "                i += 1\n",
    "        elif relation.get('mutual') is not None:\n",
    "            relentity = relation.get('mutual').split()\n",
    "            if person_ref in relentity:\n",
    "                mutual = relation.get('mutual').replace(\"#\", \"\").replace(person_id, \"\").split()\n",
    "                i = 0\n",
    "                while i < len(mutual):\n",
    "                    g.add( (person_uri, agrelon[relation.get('name')], URIRef(base_uri + '/' + mutual[i])))\n",
    "                    i += 1"
   ]
  },
  {
   "cell_type": "code",
   "execution_count": 23,
   "metadata": {},
   "outputs": [],
   "source": [
    "for person in root.findall('.//tei:person', ns):\n",
    "    person_id = person.get('{http://www.w3.org/XML/1998/namespace}id')\n",
    "    person_uri = URIRef(base_uri + '/person/' + person_id)\n",
    "    person_ref = '#' + person_id\n",
    "    relation(person)"
   ]
  },
  {
   "cell_type": "markdown",
   "metadata": {},
   "source": [
    "## Place"
   ]
  },
  {
   "cell_type": "code",
   "execution_count": 24,
   "metadata": {
    "collapsed": true
   },
   "outputs": [],
   "source": [
    "def place_subject(place):\n",
    "    g.add( (place_uri, RDF.type, schema.Place))"
   ]
  },
  {
   "cell_type": "code",
   "execution_count": 25,
   "metadata": {
    "collapsed": true
   },
   "outputs": [],
   "source": [
    "def place_sameas(place):\n",
    "    same_as = place.get('sameAs').split()\n",
    "    i = 0\n",
    "    while i < len(same_as):\n",
    "        same_as_uri = URIRef(same_as[i])\n",
    "        g.add( (place_uri, OWL.sameAs, same_as_uri))\n",
    "        i += 1"
   ]
  },
  {
   "cell_type": "code",
   "execution_count": 26,
   "metadata": {
    "collapsed": true
   },
   "outputs": [],
   "source": [
    "def placename(place):\n",
    "    placename = place.find('./tei:placeName', ns)\n",
    "    label = placename.text\n",
    "    label_lang = placename.get('{http://www.w3.org/XML/1998/namespace}lang')\n",
    "    if label_lang is not None:\n",
    "        g.add( (place_uri, RDFS.label, Literal(label, lang=label_lang)))\n",
    "    else:\n",
    "        g.add( (place_uri, RDFS.label, Literal(label)))"
   ]
  },
  {
   "cell_type": "code",
   "execution_count": 27,
   "metadata": {
    "collapsed": true
   },
   "outputs": [],
   "source": [
    "def referenced_place(place_id):\n",
    "    ref = './/tei:placeName[@ref=\"#' + place_id + '\"]'\n",
    "    for referenced_place in root.findall(ref, ns):\n",
    "        parent = referenced_place.getparent()\n",
    "        parent_id = parent.get('{http://www.w3.org/XML/1998/namespace}id')\n",
    "        parent_uri = URIRef(base_uri + '/text/' + parent_id)\n",
    "        g.add( (place_uri, DCTERMS.isReferencedBy, parent_uri))\n",
    "        g.add( (parent_uri, RDF.type, frbroo.F23_Expression_Fragment))\n",
    "        g.add( (parent_uri, frbroo.R15i_is_fragment_of, URIRef(base_uri + '/' + edition_id)))"
   ]
  },
  {
   "cell_type": "markdown",
   "metadata": {},
   "source": [
    "Call functions"
   ]
  },
  {
   "cell_type": "code",
   "execution_count": 28,
   "metadata": {},
   "outputs": [],
   "source": [
    "for place in root.findall('.//tei:place', ns):\n",
    "    place_id = place.get('{http://www.w3.org/XML/1998/namespace}id')\n",
    "    place_uri = URIRef(base_uri + '/place/' + place_id)\n",
    "    place_ref = '#' + place_id\n",
    "    place_subject(place)\n",
    "    place_sameas(place)\n",
    "    placename(place)\n",
    "    referenced_place(place_id)"
   ]
  },
  {
   "cell_type": "code",
   "execution_count": 29,
   "metadata": {
    "collapsed": true
   },
   "outputs": [],
   "source": [
    "# bind prefix\n",
    "g.bind(\"agrelon\", agrelon)\n",
    "g.bind(\"crm\", crm)\n",
    "g.bind(\"frbroo\", frbroo)\n",
    "g.bind(\"dcterms\", DCTERMS)\n",
    "g.bind(\"schema\", schema)\n",
    "g.bind(\"owl\", OWL)\n",
    "g.bind(\"pro\", pro)\n",
    "g.bind(\"proles\", proles)\n",
    "g.bind(\"prov\", prov)\n",
    "g.bind(\"tvc\", tvc)"
   ]
  },
  {
   "cell_type": "code",
   "execution_count": 30,
   "metadata": {},
   "outputs": [
    {
     "name": "stdout",
     "output_type": "stream",
     "text": [
      "@prefix agrelon: <https://d-nb.info/standards/elementset/agrelon#> .\n",
      "@prefix crm: <http://www.cidoc-crm.org/cidoc-crm/> .\n",
      "@prefix dcterms: <http://purl.org/dc/terms/> .\n",
      "@prefix frbroo: <http://iflastandards.info/ns/fr/frbr/frbroo/> .\n",
      "@prefix owl: <http://www.w3.org/2002/07/owl#> .\n",
      "@prefix pro: <http://purl.org/spar/pro/> .\n",
      "@prefix proles: <http://www.essepuntato.it/2013/10/politicalroles/> .\n",
      "@prefix prov: <http://www.w3.org/ns/prov#> .\n",
      "@prefix rdf: <http://www.w3.org/1999/02/22-rdf-syntax-ns#> .\n",
      "@prefix rdfs: <http://www.w3.org/2000/01/rdf-schema#> .\n",
      "@prefix schema: <https://schema.org/> .\n",
      "@prefix tvc: <http://www.essepuntato.it/2012/04/tvc/> .\n",
      "@prefix xml: <http://www.w3.org/XML/1998/namespace> .\n",
      "@prefix xsd: <http://www.w3.org/2001/XMLSchema#> .\n",
      "\n",
      "<http://example.org/ev01-time> a <http://www.ontologydesignpatterns.org/cp/owl/timeinterval.owl#TimeInterval> ;\n",
      "    owl:hasIntervalEndDate \"-0399\"^^xsd:date ;\n",
      "    owl:hasIntervalStartDate \"-0399\"^^xsd:date .\n",
      "\n",
      "<http://example.org/ev02-time> a <http://www.ontologydesignpatterns.org/cp/owl/timeinterval.owl#TimeInterval> ;\n",
      "    owl:hasIntervalEndDate \"-0403-01\"^^xsd:date ;\n",
      "    owl:hasIntervalStartDate \"-0404-06\"^^xsd:date .\n",
      "\n",
      "<http://example.org/person/Criti> a schema:Person ;\n",
      "    rdfs:label \"Critias (approximately 460 B.C.-approximately 403 B.C.)\"@en ;\n",
      "    dcterms:description \"ancient-athenian-philosophers\" ;\n",
      "    dcterms:subject <http://dbpedia.org/class/yago/WikicatAncientAthenianPhilosophers> ;\n",
      "    pro:holdsRoleInTime <http://example.org/Criti-in-ev02> ;\n",
      "    = <http://dbpedia.org/resource/Critias>,\n",
      "        <http://id.loc.gov/authorities/names/n00087919>,\n",
      "        <http://viaf.org/viaf/17263602> ;\n",
      "    agrelon:hasNieceNephew <http://example.org/Plat> .\n",
      "\n",
      "<http://example.org/person/Socr> a schema:Person ;\n",
      "    rdfs:label \"Socrates\"@en ;\n",
      "    dcterms:description \"ancient-athenian-philosophers\" ;\n",
      "    dcterms:isReferencedBy <http://example.org/text/line01> ;\n",
      "    dcterms:subject <http://dbpedia.org/class/yago/WikicatAncientAthenianPhilosophers> ;\n",
      "    pro:holdsRoleInTime <http://example.org/Socr-in-ev01> ;\n",
      "    = <http://viaf.org/viaf/88039167> ;\n",
      "    agrelon:hasStudent <http://example.org/Criti>,\n",
      "        <http://example.org/Plat>,\n",
      "        <http://example.org/Xen> .\n",
      "\n",
      "<http://example.org/person/Xen> a schema:Person ;\n",
      "    rdfs:label \"Xenophon\"@en ;\n",
      "    dcterms:description \"ancient-athenian-philosophers\" ;\n",
      "    dcterms:subject <http://dbpedia.org/class/yago/WikicatAncientAthenianPhilosophers> ;\n",
      "    = <http://viaf.org/viaf/89597697> ;\n",
      "    agrelon:hasColleague <http://example.org/Plat> .\n",
      "\n",
      "<http://example.org/place/Sparta> a schema:Place ;\n",
      "    rdfs:label \"Sparta\" ;\n",
      "    dcterms:isReferencedBy <http://example.org/text/desc02>,\n",
      "        <http://example.org/text/para02> ;\n",
      "    = <http://dbpedia.org/resource/Sparta>,\n",
      "        <https://pleiades.stoa.org/places/570685> .\n",
      "\n",
      "<http://example.org/rit/Criti-at-ev02> a pro:RoleInTime ;\n",
      "    pro:relatesToEntity <http://example.org/event/ev02> ;\n",
      "    pro:withRole <http://example.org/role/participant> ;\n",
      "    tvc:atTime <http://example.org/tvc/ev02-time> ;\n",
      "    proles:relatesToPlace <http://example.org/place/Athens> .\n",
      "\n",
      "<http://example.org/rit/Socr-at-ev01> a pro:RoleInTime ;\n",
      "    pro:relatesToEntity <http://example.org/event/ev01> ;\n",
      "    pro:withRole <http://example.org/role/defendant> ;\n",
      "    tvc:atTime <http://example.org/tvc/ev01-time> ;\n",
      "    proles:relatesToPlace <http://example.org/place/Athens> .\n",
      "\n",
      "<http://example.org/event/ev01> a crm:E5_Event,\n",
      "        schema:Event ;\n",
      "    rdfs:label \"Socrates trial\" ;\n",
      "    dcterms:description \"trial\" ;\n",
      "    dcterms:subject <http://wordnet-rdf.princeton.edu/id/01198357-n> ;\n",
      "    prov:hasPrimarySource <http://example.org/source/bibl01> .\n",
      "\n",
      "<http://example.org/event/ev02> a crm:E5_Event,\n",
      "        schema:Event .\n",
      "\n",
      "<http://example.org/person/Aristot> a schema:Person ;\n",
      "    rdfs:label \"Aristotle\"@en ;\n",
      "    dcterms:description \"ancient-athenian-philosophers\" ;\n",
      "    dcterms:isReferencedBy <http://example.org/text/para02> ;\n",
      "    dcterms:subject <http://dbpedia.org/class/yago/WikicatAncientAthenianPhilosophers> ;\n",
      "    = <http://dbpedia.org/resource/Aristotle>,\n",
      "        <http://viaf.org/viaf/7524651> .\n",
      "\n",
      "<http://example.org/person/Plat> a schema:Person ;\n",
      "    rdfs:label \"Plato\"@en ;\n",
      "    dcterms:description \"ancient-athenian-philosophers\" ;\n",
      "    dcterms:isReferencedBy <http://example.org/text/para01> ;\n",
      "    dcterms:subject <http://dbpedia.org/class/yago/WikicatAncientAthenianPhilosophers> ;\n",
      "    = <http://dbpedia.org/resource/Plato>,\n",
      "        <https://viaf.org/viaf/108159964/> ;\n",
      "    agrelon:hasColleague <http://example.org/Xen> .\n",
      "\n",
      "<http://example.org/role/defendant> a pro:Role ;\n",
      "    rdfs:label pro:Role,\n",
      "        \"defendant\" ;\n",
      "    = pro:Role,\n",
      "        <http://wordnet-rdf.princeton.edu/id/09781524-n> .\n",
      "\n",
      "<http://example.org/role/participant> a pro:Role ;\n",
      "    rdfs:label \"participant\" ;\n",
      "    = <http://wordnet-rdf.princeton.edu/id/10421528-n> .\n",
      "\n",
      "<http://example.org/source/bibl01> a prov:PrimarySource ;\n",
      "    dcterms:creator <http://example.org/person/Aristot>,\n",
      "        <http://example.org/person/Plat> ;\n",
      "    dcterms:title \"Apology of Socrates\",\n",
      "        \"Constitution of the Athenians\" ;\n",
      "    = <http://viaf.org/viaf/214045129> .\n",
      "\n",
      "<http://example.org/text/desc01> a frbroo:F23_Expression_Fragment ;\n",
      "    frbroo:R15i_is_fragment_of <http://example.org/example_v1> .\n",
      "\n",
      "<http://example.org/text/line01> a frbroo:F23_Expression_Fragment ;\n",
      "    frbroo:R15i_is_fragment_of <http://example.org/example_v1> .\n",
      "\n",
      "<http://example.org/place/Athens> a schema:Place ;\n",
      "    rdfs:label \"Athens\"@en ;\n",
      "    dcterms:isReferencedBy <http://example.org/text/desc01>,\n",
      "        <http://example.org/text/desc02>,\n",
      "        <http://example.org/text/para01> ;\n",
      "    = <https://pleiades.stoa.org/places/579885> .\n",
      "\n",
      "<http://example.org/text/desc02> a frbroo:F23_Expression_Fragment ;\n",
      "    frbroo:R15i_is_fragment_of <http://example.org/example_v1> .\n",
      "\n",
      "<http://example.org/text/para01> a frbroo:F23_Expression_Fragment ;\n",
      "    frbroo:R15i_is_fragment_of <http://example.org/example_v1> .\n",
      "\n",
      "<http://example.org/text/para02> a frbroo:F23_Expression_Fragment ;\n",
      "    frbroo:R15i_is_fragment_of <http://example.org/example_v1> .\n",
      "\n",
      "\n"
     ]
    }
   ],
   "source": [
    "print g.serialize(format='n3')"
   ]
  },
  {
   "cell_type": "code",
   "execution_count": 31,
   "metadata": {
    "collapsed": true
   },
   "outputs": [],
   "source": [
    "g.serialize(destination=\"output.xml\", format='xml')"
   ]
  }
 ],
 "metadata": {
  "kernelspec": {
   "display_name": "Python 2",
   "language": "python",
   "name": "python2"
  },
  "language_info": {
   "codemirror_mode": {
    "name": "ipython",
    "version": 2
   },
   "file_extension": ".py",
   "mimetype": "text/x-python",
   "name": "python",
   "nbconvert_exporter": "python",
   "pygments_lexer": "ipython2",
   "version": "2.7.13"
  }
 },
 "nbformat": 4,
 "nbformat_minor": 2
}
